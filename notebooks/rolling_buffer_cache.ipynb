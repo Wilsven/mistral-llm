{
 "cells": [
  {
   "cell_type": "markdown",
   "metadata": {},
   "source": [
    "# Visualizing the Rolling Buffer Cache\n",
    "\n",
    "We keep track of a write pointer that tells us where we added the last token in the rolling buffer cache. We add a new token and move the pointer forward.\n",
    "\n",
    "Let’s add the sentence: \n",
    "        \n",
    "        The cat is on a chair\n",
    "\n",
    "Imagine we want to “unroll” the cache because we want to calculate the attention of the incoming token. It’s very easy! We just need to use the write pointer to understand how to order the items: **We first take all the items AFTER the write pointer, and then all the items from the 0th index up to the position of the write pointer (inclusive).**"
   ]
  },
  {
   "cell_type": "code",
   "execution_count": 1,
   "metadata": {},
   "outputs": [],
   "source": [
    "def unrotate(cache: list, cache_size: int, seqlen: int, position: int) -> list:\n",
    "    if seqlen < cache_size:  # since the cache is not full yet, ignore unfilled items\n",
    "        return cache[: position + 1]\n",
    "\n",
    "    else:\n",
    "        # Take all the items AFTER the write pointer, and then all the items from the 0th index up to the position of the write pointer (inclusive)\n",
    "        return cache[position + 1 :] + cache[: position + 1]"
   ]
  },
  {
   "cell_type": "code",
   "execution_count": 2,
   "metadata": {},
   "outputs": [
    {
     "name": "stdout",
     "output_type": "stream",
     "text": [
      "write pointer position: 0\n",
      "Current cache (before unrolling): ['the']\n",
      "New cache (after unrolling): ['the']\n",
      "===\n",
      "write pointer position: 1\n",
      "Current cache (before unrolling): ['the', 'cat']\n",
      "New cache (after unrolling): ['the', 'cat']\n",
      "===\n",
      "write pointer position: 2\n",
      "Current cache (before unrolling): ['the', 'cat', 'is']\n",
      "New cache (after unrolling): ['the', 'cat', 'is']\n",
      "===\n",
      "write pointer position: 3\n",
      "Current cache (before unrolling): ['the', 'cat', 'is', 'on']\n",
      "New cache (after unrolling): ['the', 'cat', 'is', 'on']\n",
      "===\n",
      "write pointer position: 0\n",
      "Current cache (before unrolling): ['a', 'cat', 'is', 'on']\n",
      "New cache (after unrolling): ['cat', 'is', 'on', 'a']\n",
      "===\n",
      "write pointer position: 1\n",
      "Current cache (before unrolling): ['a', 'chair', 'is', 'on']\n",
      "New cache (after unrolling): ['is', 'on', 'a', 'chair']\n",
      "===\n"
     ]
    }
   ],
   "source": [
    "sequence = [\"the\", \"cat\", \"is\", \"on\", \"a\", \"chair\"]\n",
    "\n",
    "cache = []  # start with an empty cache\n",
    "cache_size = 4  # same as sliding window size\n",
    "\n",
    "for i, token in enumerate(sequence):\n",
    "    seqlen = i + 1  # how long is the sequence now\n",
    "    position = i % cache_size  # position of write pointer (indexed 0)\n",
    "    print(\"write pointer position:\", position)  # print to see how the pointer moves\n",
    "\n",
    "    # Continue appending to cache until it is filled\n",
    "    if len(cache) < cache_size:\n",
    "        cache.append(token)\n",
    "    # Once cache is filled, replace oldest token with latest\n",
    "    else:\n",
    "        cache.pop(position)  # pop oldest token\n",
    "        cache.insert(position, token)  # insert latest token\n",
    "\n",
    "    print(\"Current cache (before unrolling):\", cache)\n",
    "    res = unrotate(cache, cache_size, seqlen, position)\n",
    "    print(\"New cache (after unrolling):\", res)\n",
    "    print(\"===\")"
   ]
  },
  {
   "cell_type": "code",
   "execution_count": null,
   "metadata": {},
   "outputs": [],
   "source": []
  }
 ],
 "metadata": {
  "kernelspec": {
   "display_name": "base-2",
   "language": "python",
   "name": "python3"
  },
  "language_info": {
   "codemirror_mode": {
    "name": "ipython",
    "version": 3
   },
   "file_extension": ".py",
   "mimetype": "text/x-python",
   "name": "python",
   "nbconvert_exporter": "python",
   "pygments_lexer": "ipython3",
   "version": "3.11.4"
  }
 },
 "nbformat": 4,
 "nbformat_minor": 2
}
